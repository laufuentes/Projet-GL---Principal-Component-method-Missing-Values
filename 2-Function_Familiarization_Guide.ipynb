{
 "cells": [
  {
   "cell_type": "markdown",
   "metadata": {},
   "source": [
    "This notebook aims to present a gentle introduction to the model's functionalities, pre-processings, computation of iFAMD and metrics. Such introduction will be held on a synthetically generated dataset. "
   ]
  },
  {
   "cell_type": "markdown",
   "metadata": {},
   "source": [
    "### 0 - Library importation"
   ]
  },
  {
   "cell_type": "code",
   "execution_count": 1,
   "metadata": {},
   "outputs": [],
   "source": [
    "import numpy as np\n",
    "import pandas as pd\n",
    "from src.algorithms import * \n",
    "from src.utils import * \n",
    "from src.metrics_FAMD import *"
   ]
  },
  {
   "cell_type": "markdown",
   "metadata": {},
   "source": [
    "### 1- Initialization\n",
    "\n",
    "#### 1.1 - Let's generate a synthetic dataset! "
   ]
  },
  {
   "cell_type": "code",
   "execution_count": 5,
   "metadata": {},
   "outputs": [],
   "source": [
    "np.random.seed(21032024) # Set random seed to create reproductible results\n",
    "\n",
    "# Defintion of parameter for synthetic dataset \n",
    "\n",
    "n = 100 #  Number of samples \n",
    "S = 2  # Underlying dimensions\n",
    "K = [1,3]  # K[s] = number of times the variable s (s in {1,...,S}) is duplicated in the dataset\n",
    "cat = 2 # Number of categorical variables\n",
    "cat_idx = [1,2] # Index of the categorical variables\n",
    "nb_of_cat_per_var = [4,4] # Number of categories for each categorical variable\n",
    "SNR = 3 # Signal noise ratio"
   ]
  },
  {
   "cell_type": "code",
   "execution_count": 6,
   "metadata": {},
   "outputs": [
    {
     "data": {
      "text/plain": [
       "(array([], dtype=int64), array([], dtype=int64))"
      ]
     },
     "execution_count": 6,
     "metadata": {},
     "output_type": "execute_result"
    }
   ],
   "source": [
    "# Creation of synthetic dataset\n",
    "df_ref = create_dataset(n, S, K, cat, cat_idx, nb_of_cat_per_var, SNR)\n",
    "\n",
    "np.where(df_ref.isna()==True) # Check that there are no missing values "
   ]
  },
  {
   "cell_type": "markdown",
   "metadata": {},
   "source": [
    "#### 1.2- Definition of parameters"
   ]
  },
  {
   "cell_type": "code",
   "execution_count": 15,
   "metadata": {},
   "outputs": [],
   "source": [
    "# Shape of dataset (before dummy transformation)\n",
    "I, J = df_ref.shape\n",
    "\n",
    "# Categorical Variables :\n",
    "idx_k2 = pd.Index(cat_idx).map(str)\n",
    "\n",
    "# Continuous Variables\n",
    "idx_k1 = df_ref.columns.difference(idx_k2)"
   ]
  },
  {
   "cell_type": "markdown",
   "metadata": {},
   "source": [
    "#### 1.3- Inject missing values"
   ]
  },
  {
   "cell_type": "code",
   "execution_count": 17,
   "metadata": {},
   "outputs": [],
   "source": [
    "proba_non_missing = 0.8\n",
    "dfref_missing = create_missingness(df_ref, proba_non_missing)"
   ]
  },
  {
   "cell_type": "markdown",
   "metadata": {},
   "source": [
    "#### 1.4 - Encode dummy variables"
   ]
  },
  {
   "cell_type": "code",
   "execution_count": 18,
   "metadata": {},
   "outputs": [
    {
     "data": {
      "text/html": [
       "<div>\n",
       "<style scoped>\n",
       "    .dataframe tbody tr th:only-of-type {\n",
       "        vertical-align: middle;\n",
       "    }\n",
       "\n",
       "    .dataframe tbody tr th {\n",
       "        vertical-align: top;\n",
       "    }\n",
       "\n",
       "    .dataframe thead th {\n",
       "        text-align: right;\n",
       "    }\n",
       "</style>\n",
       "<table border=\"1\" class=\"dataframe\">\n",
       "  <thead>\n",
       "    <tr style=\"text-align: right;\">\n",
       "      <th></th>\n",
       "      <th>0</th>\n",
       "      <th>3</th>\n",
       "      <th>4</th>\n",
       "      <th>5</th>\n",
       "      <th>1_3.0</th>\n",
       "      <th>1_1.0</th>\n",
       "      <th>1_2.0</th>\n",
       "      <th>1_0.0</th>\n",
       "      <th>2_1.0</th>\n",
       "      <th>2_2.0</th>\n",
       "      <th>2_3.0</th>\n",
       "      <th>2_0.0</th>\n",
       "    </tr>\n",
       "  </thead>\n",
       "  <tbody>\n",
       "    <tr>\n",
       "      <th>0</th>\n",
       "      <td>NaN</td>\n",
       "      <td>-1.355385</td>\n",
       "      <td>-1.48824</td>\n",
       "      <td>NaN</td>\n",
       "      <td>1</td>\n",
       "      <td>0</td>\n",
       "      <td>0</td>\n",
       "      <td>0</td>\n",
       "      <td>NaN</td>\n",
       "      <td>NaN</td>\n",
       "      <td>NaN</td>\n",
       "      <td>NaN</td>\n",
       "    </tr>\n",
       "    <tr>\n",
       "      <th>1</th>\n",
       "      <td>0.883629</td>\n",
       "      <td>0.70227</td>\n",
       "      <td>1.450796</td>\n",
       "      <td>NaN</td>\n",
       "      <td>NaN</td>\n",
       "      <td>NaN</td>\n",
       "      <td>NaN</td>\n",
       "      <td>NaN</td>\n",
       "      <td>1</td>\n",
       "      <td>0</td>\n",
       "      <td>0</td>\n",
       "      <td>0</td>\n",
       "    </tr>\n",
       "    <tr>\n",
       "      <th>2</th>\n",
       "      <td>-1.117298</td>\n",
       "      <td>-0.406702</td>\n",
       "      <td>-0.39529</td>\n",
       "      <td>-0.523693</td>\n",
       "      <td>0</td>\n",
       "      <td>1</td>\n",
       "      <td>0</td>\n",
       "      <td>0</td>\n",
       "      <td>0</td>\n",
       "      <td>1</td>\n",
       "      <td>0</td>\n",
       "      <td>0</td>\n",
       "    </tr>\n",
       "    <tr>\n",
       "      <th>3</th>\n",
       "      <td>-0.558345</td>\n",
       "      <td>-0.916434</td>\n",
       "      <td>NaN</td>\n",
       "      <td>NaN</td>\n",
       "      <td>0</td>\n",
       "      <td>0</td>\n",
       "      <td>1</td>\n",
       "      <td>0</td>\n",
       "      <td>0</td>\n",
       "      <td>0</td>\n",
       "      <td>1</td>\n",
       "      <td>0</td>\n",
       "    </tr>\n",
       "    <tr>\n",
       "      <th>4</th>\n",
       "      <td>0.053069</td>\n",
       "      <td>-1.825799</td>\n",
       "      <td>NaN</td>\n",
       "      <td>-1.6404</td>\n",
       "      <td>NaN</td>\n",
       "      <td>NaN</td>\n",
       "      <td>NaN</td>\n",
       "      <td>NaN</td>\n",
       "      <td>1</td>\n",
       "      <td>0</td>\n",
       "      <td>0</td>\n",
       "      <td>0</td>\n",
       "    </tr>\n",
       "    <tr>\n",
       "      <th>...</th>\n",
       "      <td>...</td>\n",
       "      <td>...</td>\n",
       "      <td>...</td>\n",
       "      <td>...</td>\n",
       "      <td>...</td>\n",
       "      <td>...</td>\n",
       "      <td>...</td>\n",
       "      <td>...</td>\n",
       "      <td>...</td>\n",
       "      <td>...</td>\n",
       "      <td>...</td>\n",
       "      <td>...</td>\n",
       "    </tr>\n",
       "    <tr>\n",
       "      <th>95</th>\n",
       "      <td>-1.535187</td>\n",
       "      <td>1.615637</td>\n",
       "      <td>1.518405</td>\n",
       "      <td>1.472676</td>\n",
       "      <td>0</td>\n",
       "      <td>1</td>\n",
       "      <td>0</td>\n",
       "      <td>0</td>\n",
       "      <td>0</td>\n",
       "      <td>0</td>\n",
       "      <td>0</td>\n",
       "      <td>1</td>\n",
       "    </tr>\n",
       "    <tr>\n",
       "      <th>96</th>\n",
       "      <td>-0.458293</td>\n",
       "      <td>0.414979</td>\n",
       "      <td>0.640392</td>\n",
       "      <td>0.669035</td>\n",
       "      <td>0</td>\n",
       "      <td>1</td>\n",
       "      <td>0</td>\n",
       "      <td>0</td>\n",
       "      <td>0</td>\n",
       "      <td>0</td>\n",
       "      <td>0</td>\n",
       "      <td>1</td>\n",
       "    </tr>\n",
       "    <tr>\n",
       "      <th>97</th>\n",
       "      <td>0.778979</td>\n",
       "      <td>-1.446206</td>\n",
       "      <td>NaN</td>\n",
       "      <td>-1.644596</td>\n",
       "      <td>0</td>\n",
       "      <td>0</td>\n",
       "      <td>0</td>\n",
       "      <td>1</td>\n",
       "      <td>0</td>\n",
       "      <td>0</td>\n",
       "      <td>1</td>\n",
       "      <td>0</td>\n",
       "    </tr>\n",
       "    <tr>\n",
       "      <th>98</th>\n",
       "      <td>-0.294975</td>\n",
       "      <td>-0.011132</td>\n",
       "      <td>-0.538607</td>\n",
       "      <td>0.24137</td>\n",
       "      <td>1</td>\n",
       "      <td>0</td>\n",
       "      <td>0</td>\n",
       "      <td>0</td>\n",
       "      <td>0</td>\n",
       "      <td>0</td>\n",
       "      <td>0</td>\n",
       "      <td>1</td>\n",
       "    </tr>\n",
       "    <tr>\n",
       "      <th>99</th>\n",
       "      <td>0.661237</td>\n",
       "      <td>-0.855051</td>\n",
       "      <td>-0.329167</td>\n",
       "      <td>NaN</td>\n",
       "      <td>0</td>\n",
       "      <td>0</td>\n",
       "      <td>1</td>\n",
       "      <td>0</td>\n",
       "      <td>1</td>\n",
       "      <td>0</td>\n",
       "      <td>0</td>\n",
       "      <td>0</td>\n",
       "    </tr>\n",
       "  </tbody>\n",
       "</table>\n",
       "<p>100 rows × 12 columns</p>\n",
       "</div>"
      ],
      "text/plain": [
       "           0         3         4         5 1_3.0 1_1.0 1_2.0 1_0.0 2_1.0  \\\n",
       "0        NaN -1.355385  -1.48824       NaN     1     0     0     0   NaN   \n",
       "1   0.883629   0.70227  1.450796       NaN   NaN   NaN   NaN   NaN     1   \n",
       "2  -1.117298 -0.406702  -0.39529 -0.523693     0     1     0     0     0   \n",
       "3  -0.558345 -0.916434       NaN       NaN     0     0     1     0     0   \n",
       "4   0.053069 -1.825799       NaN   -1.6404   NaN   NaN   NaN   NaN     1   \n",
       "..       ...       ...       ...       ...   ...   ...   ...   ...   ...   \n",
       "95 -1.535187  1.615637  1.518405  1.472676     0     1     0     0     0   \n",
       "96 -0.458293  0.414979  0.640392  0.669035     0     1     0     0     0   \n",
       "97  0.778979 -1.446206       NaN -1.644596     0     0     0     1     0   \n",
       "98 -0.294975 -0.011132 -0.538607   0.24137     1     0     0     0     0   \n",
       "99  0.661237 -0.855051 -0.329167       NaN     0     0     1     0     1   \n",
       "\n",
       "   2_2.0 2_3.0 2_0.0  \n",
       "0    NaN   NaN   NaN  \n",
       "1      0     0     0  \n",
       "2      1     0     0  \n",
       "3      0     1     0  \n",
       "4      0     0     0  \n",
       "..   ...   ...   ...  \n",
       "95     0     0     1  \n",
       "96     0     0     1  \n",
       "97     0     1     0  \n",
       "98     0     0     1  \n",
       "99     0     0     0  \n",
       "\n",
       "[100 rows x 12 columns]"
      ]
     },
     "execution_count": 18,
     "metadata": {},
     "output_type": "execute_result"
    }
   ],
   "source": [
    "# Complete dataframe\n",
    "df_missing_dummy, idx_j, nb_values_per_cat = encode_dummy_variables(dfref_missing, idx_k2)\n",
    "\n",
    "# Dataframe with missing values\n",
    "dfref_dummy = encode_dummy_variables(df_ref, idx_k2)[0]\n",
    "\n",
    "df_missing_dummy"
   ]
  },
  {
   "cell_type": "code",
   "execution_count": 19,
   "metadata": {},
   "outputs": [
    {
     "data": {
      "text/plain": [
       "0.19833333333333333"
      ]
     },
     "execution_count": 19,
     "metadata": {},
     "output_type": "execute_result"
    }
   ],
   "source": [
    "#Check proportion of missing data :\n",
    "n_missing = dfref_missing.isna().sum().sum()\n",
    "n_missing/(dfref_missing.shape[0]*dfref_missing.shape[1])"
   ]
  },
  {
   "cell_type": "markdown",
   "metadata": {},
   "source": [
    "### 2- Implement iterative FAMD"
   ]
  },
  {
   "cell_type": "code",
   "execution_count": 20,
   "metadata": {},
   "outputs": [],
   "source": [
    "# Maximum number of iterations \n",
    "n_it = 1000"
   ]
  },
  {
   "cell_type": "code",
   "execution_count": 21,
   "metadata": {},
   "outputs": [],
   "source": [
    "# Class definition\n",
    "ifamd = IterativeFAMDImputer(n_components=4, data=df_missing_dummy, k1=idx_k1, k2=idx_j, nb_values_per_cat = nb_values_per_cat)"
   ]
  },
  {
   "cell_type": "code",
   "execution_count": 22,
   "metadata": {},
   "outputs": [
    {
     "name": "stdout",
     "output_type": "stream",
     "text": [
      "Converged in 6\n"
     ]
    }
   ],
   "source": [
    "# Run iterative FAMD\n",
    "ifamd.impute(n_it)\n",
    "\n",
    "df = ifamd.df"
   ]
  },
  {
   "cell_type": "markdown",
   "metadata": {},
   "source": [
    "### 3 - Metric scores\n",
    "\n",
    "To ensure that we are only considering TPR and NRMSE scores on imputed data, we will compute the scores among imputed values"
   ]
  },
  {
   "cell_type": "code",
   "execution_count": 23,
   "metadata": {},
   "outputs": [],
   "source": [
    "C0_missing = df_missing_dummy.isna()[ifamd.k1].to_numpy()\n",
    "Categ_missing = df_missing_dummy.isna()[ifamd.k2].to_numpy()"
   ]
  },
  {
   "cell_type": "markdown",
   "metadata": {},
   "source": [
    "#### Falsely classified Rate: "
   ]
  },
  {
   "cell_type": "code",
   "execution_count": 24,
   "metadata": {},
   "outputs": [
    {
     "name": "stdout",
     "output_type": "stream",
     "text": [
      "rate of falsely classified values:  0.17567567567567566\n"
     ]
    }
   ],
   "source": [
    "# We encode categories into 0,1\n",
    "res = (df[ifamd.k2].copy()>=0.5).astype(int)\n",
    "\n",
    "per_categ = metric_fc(res[Categ_missing], dfref_dummy[ifamd.k2][Categ_missing])\n",
    "rate = per_categ.mean()\n",
    "\n",
    "print(\"rate of falsely classified values: \", rate)"
   ]
  },
  {
   "cell_type": "markdown",
   "metadata": {},
   "source": [
    "#### NRMSE"
   ]
  },
  {
   "cell_type": "code",
   "execution_count": 25,
   "metadata": {},
   "outputs": [
    {
     "name": "stdout",
     "output_type": "stream",
     "text": [
      "normalized rmse:  0.28337438646756036\n"
     ]
    }
   ],
   "source": [
    "nrsme = compute_nrmse_weighted(df[ifamd.k1][C0_missing].astype(int), dfref_dummy[ifamd.k1][C0_missing])\n",
    "\n",
    "print(\"normalized rmse: \", nrsme)"
   ]
  }
 ],
 "metadata": {
  "kernelspec": {
   "display_name": "Python 3",
   "language": "python",
   "name": "python3"
  },
  "language_info": {
   "codemirror_mode": {
    "name": "ipython",
    "version": 3
   },
   "file_extension": ".py",
   "mimetype": "text/x-python",
   "name": "python",
   "nbconvert_exporter": "python",
   "pygments_lexer": "ipython3",
   "version": "3.9.13"
  }
 },
 "nbformat": 4,
 "nbformat_minor": 2
}
