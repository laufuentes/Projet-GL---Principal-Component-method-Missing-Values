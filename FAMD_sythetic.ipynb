{
 "cells": [
  {
   "cell_type": "code",
   "execution_count": 1,
   "metadata": {},
   "outputs": [],
   "source": [
    "import numpy as np\n",
    "import pandas as pd\n",
    "from src.algorithms import * \n",
    "from src.utils import * \n",
    "from src.metrics_FAMD import *"
   ]
  },
  {
   "cell_type": "markdown",
   "metadata": {},
   "source": [
    "## TEST on a generated Dataset"
   ]
  },
  {
   "cell_type": "code",
   "execution_count": 5,
   "metadata": {},
   "outputs": [
    {
     "name": "stdout",
     "output_type": "stream",
     "text": [
      "(100, 6)\n"
     ]
    }
   ],
   "source": [
    "df = pd.read_csv(\"df_3_1.csv\") # first dataset created in the paper : (3.1 Relationships between continuous and categorical variables)\n",
    "\n",
    "n_it =1000\n",
    "print(df.shape)"
   ]
  },
  {
   "cell_type": "code",
   "execution_count": 6,
   "metadata": {},
   "outputs": [],
   "source": [
    "# Categorical Variables :\n",
    "idx_k2_df = pd.Index([\"1\",\"2\"])\n",
    "\n",
    "# Continuous Variables\n",
    "idx_k1_df = df.columns.difference(idx_k2_df)\n"
   ]
  },
  {
   "cell_type": "code",
   "execution_count": 7,
   "metadata": {},
   "outputs": [],
   "source": [
    "# Inject missing values into the gbsg dataframe :\n",
    "proba_non_missing = 0.8\n",
    "df_missing = create_missingness(df, proba_non_missing)\n",
    "\n",
    "# Encode dummy variables in gbsg dataframe and in the gbsg dataframe with missing values :\n",
    "df_missing_dummy, idx_j_df, nb_values_per_cat_df = encode_dummy_variables(df_missing, idx_k2_df)\n",
    "df_dummy = encode_dummy_variables(df, idx_k2_df)[0]"
   ]
  },
  {
   "cell_type": "code",
   "execution_count": 8,
   "metadata": {},
   "outputs": [
    {
     "name": "stdout",
     "output_type": "stream",
     "text": [
      "Converged in 9\n"
     ]
    },
    {
     "data": {
      "text/html": [
       "<div>\n",
       "<style scoped>\n",
       "    .dataframe tbody tr th:only-of-type {\n",
       "        vertical-align: middle;\n",
       "    }\n",
       "\n",
       "    .dataframe tbody tr th {\n",
       "        vertical-align: top;\n",
       "    }\n",
       "\n",
       "    .dataframe thead th {\n",
       "        text-align: right;\n",
       "    }\n",
       "</style>\n",
       "<table border=\"1\" class=\"dataframe\">\n",
       "  <thead>\n",
       "    <tr style=\"text-align: right;\">\n",
       "      <th></th>\n",
       "      <th>0</th>\n",
       "      <th>3</th>\n",
       "      <th>4</th>\n",
       "      <th>5</th>\n",
       "      <th>1_0.0</th>\n",
       "      <th>1_1.0</th>\n",
       "      <th>1_3.0</th>\n",
       "      <th>1_2.0</th>\n",
       "      <th>2_0.0</th>\n",
       "      <th>2_2.0</th>\n",
       "      <th>2_1.0</th>\n",
       "      <th>2_3.0</th>\n",
       "    </tr>\n",
       "  </thead>\n",
       "  <tbody>\n",
       "    <tr>\n",
       "      <th>0</th>\n",
       "      <td>0.093337</td>\n",
       "      <td>0.135113</td>\n",
       "      <td>0.167152</td>\n",
       "      <td>0.197447</td>\n",
       "      <td>1.000000</td>\n",
       "      <td>0.000000</td>\n",
       "      <td>0.000000</td>\n",
       "      <td>0.000000</td>\n",
       "      <td>1.000000</td>\n",
       "      <td>0.000000</td>\n",
       "      <td>0.000000</td>\n",
       "      <td>0.000000</td>\n",
       "    </tr>\n",
       "    <tr>\n",
       "      <th>1</th>\n",
       "      <td>-1.072932</td>\n",
       "      <td>1.061793</td>\n",
       "      <td>1.051826</td>\n",
       "      <td>1.134287</td>\n",
       "      <td>0.000000</td>\n",
       "      <td>1.000000</td>\n",
       "      <td>0.000000</td>\n",
       "      <td>0.000000</td>\n",
       "      <td>1.000000</td>\n",
       "      <td>0.000000</td>\n",
       "      <td>0.000000</td>\n",
       "      <td>0.000000</td>\n",
       "    </tr>\n",
       "    <tr>\n",
       "      <th>2</th>\n",
       "      <td>0.177369</td>\n",
       "      <td>0.414308</td>\n",
       "      <td>0.415502</td>\n",
       "      <td>0.442817</td>\n",
       "      <td>1.000000</td>\n",
       "      <td>0.000000</td>\n",
       "      <td>0.000000</td>\n",
       "      <td>0.000000</td>\n",
       "      <td>1.000000</td>\n",
       "      <td>0.000000</td>\n",
       "      <td>0.000000</td>\n",
       "      <td>0.000000</td>\n",
       "    </tr>\n",
       "    <tr>\n",
       "      <th>3</th>\n",
       "      <td>-0.608092</td>\n",
       "      <td>0.327232</td>\n",
       "      <td>0.439984</td>\n",
       "      <td>0.327426</td>\n",
       "      <td>0.403212</td>\n",
       "      <td>-0.099130</td>\n",
       "      <td>0.941222</td>\n",
       "      <td>-0.245304</td>\n",
       "      <td>0.000000</td>\n",
       "      <td>1.000000</td>\n",
       "      <td>0.000000</td>\n",
       "      <td>0.000000</td>\n",
       "    </tr>\n",
       "    <tr>\n",
       "      <th>4</th>\n",
       "      <td>1.775482</td>\n",
       "      <td>-0.293381</td>\n",
       "      <td>-0.248346</td>\n",
       "      <td>-0.257979</td>\n",
       "      <td>0.000000</td>\n",
       "      <td>0.000000</td>\n",
       "      <td>1.000000</td>\n",
       "      <td>0.000000</td>\n",
       "      <td>-0.514017</td>\n",
       "      <td>1.384534</td>\n",
       "      <td>-0.163783</td>\n",
       "      <td>0.293266</td>\n",
       "    </tr>\n",
       "    <tr>\n",
       "      <th>...</th>\n",
       "      <td>...</td>\n",
       "      <td>...</td>\n",
       "      <td>...</td>\n",
       "      <td>...</td>\n",
       "      <td>...</td>\n",
       "      <td>...</td>\n",
       "      <td>...</td>\n",
       "      <td>...</td>\n",
       "      <td>...</td>\n",
       "      <td>...</td>\n",
       "      <td>...</td>\n",
       "      <td>...</td>\n",
       "    </tr>\n",
       "    <tr>\n",
       "      <th>95</th>\n",
       "      <td>0.289194</td>\n",
       "      <td>-0.401571</td>\n",
       "      <td>-0.320624</td>\n",
       "      <td>-0.361769</td>\n",
       "      <td>0.000000</td>\n",
       "      <td>0.000000</td>\n",
       "      <td>1.000000</td>\n",
       "      <td>0.000000</td>\n",
       "      <td>1.000000</td>\n",
       "      <td>0.000000</td>\n",
       "      <td>0.000000</td>\n",
       "      <td>0.000000</td>\n",
       "    </tr>\n",
       "    <tr>\n",
       "      <th>96</th>\n",
       "      <td>1.227742</td>\n",
       "      <td>0.083648</td>\n",
       "      <td>-0.155891</td>\n",
       "      <td>-0.145247</td>\n",
       "      <td>0.000000</td>\n",
       "      <td>1.000000</td>\n",
       "      <td>0.000000</td>\n",
       "      <td>0.000000</td>\n",
       "      <td>0.000000</td>\n",
       "      <td>0.000000</td>\n",
       "      <td>0.000000</td>\n",
       "      <td>1.000000</td>\n",
       "    </tr>\n",
       "    <tr>\n",
       "      <th>97</th>\n",
       "      <td>-1.009023</td>\n",
       "      <td>-0.190538</td>\n",
       "      <td>-0.186147</td>\n",
       "      <td>-0.259537</td>\n",
       "      <td>1.000000</td>\n",
       "      <td>0.000000</td>\n",
       "      <td>0.000000</td>\n",
       "      <td>0.000000</td>\n",
       "      <td>1.000000</td>\n",
       "      <td>0.000000</td>\n",
       "      <td>0.000000</td>\n",
       "      <td>0.000000</td>\n",
       "    </tr>\n",
       "    <tr>\n",
       "      <th>98</th>\n",
       "      <td>-1.664287</td>\n",
       "      <td>-1.140274</td>\n",
       "      <td>-1.182114</td>\n",
       "      <td>-1.254136</td>\n",
       "      <td>0.000000</td>\n",
       "      <td>0.000000</td>\n",
       "      <td>1.000000</td>\n",
       "      <td>0.000000</td>\n",
       "      <td>0.000000</td>\n",
       "      <td>0.000000</td>\n",
       "      <td>1.000000</td>\n",
       "      <td>0.000000</td>\n",
       "    </tr>\n",
       "    <tr>\n",
       "      <th>99</th>\n",
       "      <td>0.161938</td>\n",
       "      <td>0.304257</td>\n",
       "      <td>0.347569</td>\n",
       "      <td>0.287114</td>\n",
       "      <td>0.239498</td>\n",
       "      <td>0.239304</td>\n",
       "      <td>0.262930</td>\n",
       "      <td>0.258268</td>\n",
       "      <td>0.257103</td>\n",
       "      <td>0.266859</td>\n",
       "      <td>0.204014</td>\n",
       "      <td>0.272024</td>\n",
       "    </tr>\n",
       "  </tbody>\n",
       "</table>\n",
       "<p>100 rows × 12 columns</p>\n",
       "</div>"
      ],
      "text/plain": [
       "           0         3         4         5     1_0.0     1_1.0     1_3.0  \\\n",
       "0   0.093337  0.135113  0.167152  0.197447  1.000000  0.000000  0.000000   \n",
       "1  -1.072932  1.061793  1.051826  1.134287  0.000000  1.000000  0.000000   \n",
       "2   0.177369  0.414308  0.415502  0.442817  1.000000  0.000000  0.000000   \n",
       "3  -0.608092  0.327232  0.439984  0.327426  0.403212 -0.099130  0.941222   \n",
       "4   1.775482 -0.293381 -0.248346 -0.257979  0.000000  0.000000  1.000000   \n",
       "..       ...       ...       ...       ...       ...       ...       ...   \n",
       "95  0.289194 -0.401571 -0.320624 -0.361769  0.000000  0.000000  1.000000   \n",
       "96  1.227742  0.083648 -0.155891 -0.145247  0.000000  1.000000  0.000000   \n",
       "97 -1.009023 -0.190538 -0.186147 -0.259537  1.000000  0.000000  0.000000   \n",
       "98 -1.664287 -1.140274 -1.182114 -1.254136  0.000000  0.000000  1.000000   \n",
       "99  0.161938  0.304257  0.347569  0.287114  0.239498  0.239304  0.262930   \n",
       "\n",
       "       1_2.0     2_0.0     2_2.0     2_1.0     2_3.0  \n",
       "0   0.000000  1.000000  0.000000  0.000000  0.000000  \n",
       "1   0.000000  1.000000  0.000000  0.000000  0.000000  \n",
       "2   0.000000  1.000000  0.000000  0.000000  0.000000  \n",
       "3  -0.245304  0.000000  1.000000  0.000000  0.000000  \n",
       "4   0.000000 -0.514017  1.384534 -0.163783  0.293266  \n",
       "..       ...       ...       ...       ...       ...  \n",
       "95  0.000000  1.000000  0.000000  0.000000  0.000000  \n",
       "96  0.000000  0.000000  0.000000  0.000000  1.000000  \n",
       "97  0.000000  1.000000  0.000000  0.000000  0.000000  \n",
       "98  0.000000  0.000000  0.000000  1.000000  0.000000  \n",
       "99  0.258268  0.257103  0.266859  0.204014  0.272024  \n",
       "\n",
       "[100 rows x 12 columns]"
      ]
     },
     "execution_count": 8,
     "metadata": {},
     "output_type": "execute_result"
    }
   ],
   "source": [
    "ifamd_df = IterativeFAMDImputer(n_components=4, data=df_missing_dummy, k1=idx_k1_df, k2=idx_j_df, nb_values_per_cat = nb_values_per_cat_df)\n",
    "ifamd_df.impute(n_it)"
   ]
  },
  {
   "cell_type": "code",
   "execution_count": 9,
   "metadata": {},
   "outputs": [
    {
     "data": {
      "text/plain": [
       "array([0.18518519, 0.11111111, 0.22222222, 0.14814815, 0.33333333,\n",
       "       0.18518519, 0.22222222, 0.22222222])"
      ]
     },
     "execution_count": 9,
     "metadata": {},
     "output_type": "execute_result"
    }
   ],
   "source": [
    "C0_missing = df_missing_dummy.isna()[ifamd_df.k1].to_numpy()\n",
    "Categ_missing = df_missing_dummy.isna()[ifamd_df.k2].to_numpy()\n",
    "\n",
    "# We encode categories into 0,1\n",
    "res = ifamd_df.df[ifamd_df.k2].copy()\n",
    "pos = 0\n",
    "for h in range (len(idx_k2_df)) :\n",
    "    col = [idx_j_df[pos+i] for i in range (nb_values_per_cat_df[h])]\n",
    "    res[\"max_value\"] = ifamd_df.df[col].max(axis = 1)\n",
    "    for value in col:\n",
    "        res[value] = (res[value] == res[\"max_value\"]).astype(int)\n",
    "\n",
    "    pos += nb_values_per_cat_df[h]\n",
    "\n",
    "res = res[ifamd_df.k2] \n",
    "\n",
    "metric_fc(res[Categ_missing], df_dummy[ifamd_df.k2][Categ_missing])"
   ]
  },
  {
   "cell_type": "code",
   "execution_count": 10,
   "metadata": {},
   "outputs": [
    {
     "data": {
      "text/plain": [
       "6.323510807689512"
      ]
     },
     "execution_count": 10,
     "metadata": {},
     "output_type": "execute_result"
    }
   ],
   "source": [
    "#NRMSE\n",
    "compute_nrmse_weighted(df_dummy[ifamd_df.k1][C0_missing], ifamd_df.df[ifamd_df.k1][C0_missing])"
   ]
  }
 ],
 "metadata": {
  "kernelspec": {
   "display_name": "Python 3",
   "language": "python",
   "name": "python3"
  },
  "language_info": {
   "codemirror_mode": {
    "name": "ipython",
    "version": 3
   },
   "file_extension": ".py",
   "mimetype": "text/x-python",
   "name": "python",
   "nbconvert_exporter": "python",
   "pygments_lexer": "ipython3",
   "version": "3.9.13"
  }
 },
 "nbformat": 4,
 "nbformat_minor": 2
}
