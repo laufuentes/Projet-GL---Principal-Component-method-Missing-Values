{
 "cells": [
  {
   "cell_type": "markdown",
   "metadata": {},
   "source": [
    "In this notebook, we will first introduce the technique for generating synthetic datasets and then explain how to generated synthetic dataframes for testing properties lately. "
   ]
  },
  {
   "cell_type": "markdown",
   "metadata": {},
   "source": [
    "### 0- Library importation"
   ]
  },
  {
   "cell_type": "code",
   "execution_count": 2,
   "metadata": {},
   "outputs": [],
   "source": [
    "import numpy as np\n",
    "import pandas as pd\n",
    "import matplotlib.pyplot as plt\n",
    "import csv\n",
    "\n",
    "from src.utils import *\n",
    "from src.algorithms import * \n",
    "from src.metrics_FAMD import *"
   ]
  },
  {
   "cell_type": "markdown",
   "metadata": {},
   "source": [
    "### 1- Let's create our first synthetic dataset!  "
   ]
  },
  {
   "cell_type": "code",
   "execution_count": 3,
   "metadata": {},
   "outputs": [],
   "source": [
    "# Set random seed to create reproductible results\n",
    "np.random.seed(21032024)"
   ]
  },
  {
   "cell_type": "code",
   "execution_count": 5,
   "metadata": {},
   "outputs": [],
   "source": [
    "# Defintion of parameter for synthetic dataset creation\n",
    "\n",
    "n = 100 #  Number of samples \n",
    "S = 2  # Underlying dimensions\n",
    "K = [1,3]  # K[s] = number of times the variable s (s in {1,...,S}) is duplicated in the dataset\n",
    "\n",
    "cat = 2 # Number of categorical variables\n",
    "cat_idx = [1,2] # Index of the categorical variables\n",
    "nb_of_cat_per_var = [4,4] # Number of categories for each categorical variable\n",
    "\n",
    "SNR = 3 # Signal noise ratio"
   ]
  },
  {
   "cell_type": "code",
   "execution_count": 11,
   "metadata": {},
   "outputs": [
    {
     "data": {
      "text/html": [
       "<div>\n",
       "<style scoped>\n",
       "    .dataframe tbody tr th:only-of-type {\n",
       "        vertical-align: middle;\n",
       "    }\n",
       "\n",
       "    .dataframe tbody tr th {\n",
       "        vertical-align: top;\n",
       "    }\n",
       "\n",
       "    .dataframe thead th {\n",
       "        text-align: right;\n",
       "    }\n",
       "</style>\n",
       "<table border=\"1\" class=\"dataframe\">\n",
       "  <thead>\n",
       "    <tr style=\"text-align: right;\">\n",
       "      <th></th>\n",
       "      <th>0</th>\n",
       "      <th>1</th>\n",
       "      <th>2</th>\n",
       "      <th>3</th>\n",
       "      <th>4</th>\n",
       "      <th>5</th>\n",
       "    </tr>\n",
       "  </thead>\n",
       "  <tbody>\n",
       "    <tr>\n",
       "      <th>0</th>\n",
       "      <td>-0.355704</td>\n",
       "      <td>2.0</td>\n",
       "      <td>1.0</td>\n",
       "      <td>-0.134909</td>\n",
       "      <td>-1.067431</td>\n",
       "      <td>-0.620024</td>\n",
       "    </tr>\n",
       "    <tr>\n",
       "      <th>1</th>\n",
       "      <td>1.130074</td>\n",
       "      <td>2.0</td>\n",
       "      <td>0.0</td>\n",
       "      <td>-0.072465</td>\n",
       "      <td>1.014914</td>\n",
       "      <td>0.714236</td>\n",
       "    </tr>\n",
       "    <tr>\n",
       "      <th>2</th>\n",
       "      <td>0.955670</td>\n",
       "      <td>1.0</td>\n",
       "      <td>1.0</td>\n",
       "      <td>-1.061916</td>\n",
       "      <td>-0.474874</td>\n",
       "      <td>-0.707344</td>\n",
       "    </tr>\n",
       "    <tr>\n",
       "      <th>3</th>\n",
       "      <td>0.546514</td>\n",
       "      <td>3.0</td>\n",
       "      <td>3.0</td>\n",
       "      <td>1.645276</td>\n",
       "      <td>1.017216</td>\n",
       "      <td>1.346527</td>\n",
       "    </tr>\n",
       "    <tr>\n",
       "      <th>4</th>\n",
       "      <td>-1.267910</td>\n",
       "      <td>3.0</td>\n",
       "      <td>3.0</td>\n",
       "      <td>0.293491</td>\n",
       "      <td>0.304471</td>\n",
       "      <td>1.312991</td>\n",
       "    </tr>\n",
       "    <tr>\n",
       "      <th>...</th>\n",
       "      <td>...</td>\n",
       "      <td>...</td>\n",
       "      <td>...</td>\n",
       "      <td>...</td>\n",
       "      <td>...</td>\n",
       "      <td>...</td>\n",
       "    </tr>\n",
       "    <tr>\n",
       "      <th>95</th>\n",
       "      <td>1.636741</td>\n",
       "      <td>3.0</td>\n",
       "      <td>1.0</td>\n",
       "      <td>0.272213</td>\n",
       "      <td>0.598163</td>\n",
       "      <td>0.549963</td>\n",
       "    </tr>\n",
       "    <tr>\n",
       "      <th>96</th>\n",
       "      <td>-0.789136</td>\n",
       "      <td>0.0</td>\n",
       "      <td>0.0</td>\n",
       "      <td>1.389421</td>\n",
       "      <td>0.402969</td>\n",
       "      <td>0.116653</td>\n",
       "    </tr>\n",
       "    <tr>\n",
       "      <th>97</th>\n",
       "      <td>0.522099</td>\n",
       "      <td>3.0</td>\n",
       "      <td>2.0</td>\n",
       "      <td>0.721871</td>\n",
       "      <td>1.239337</td>\n",
       "      <td>0.818064</td>\n",
       "    </tr>\n",
       "    <tr>\n",
       "      <th>98</th>\n",
       "      <td>-0.310221</td>\n",
       "      <td>1.0</td>\n",
       "      <td>1.0</td>\n",
       "      <td>-0.942637</td>\n",
       "      <td>-0.277487</td>\n",
       "      <td>-0.838604</td>\n",
       "    </tr>\n",
       "    <tr>\n",
       "      <th>99</th>\n",
       "      <td>2.021772</td>\n",
       "      <td>1.0</td>\n",
       "      <td>0.0</td>\n",
       "      <td>-0.129417</td>\n",
       "      <td>-0.141823</td>\n",
       "      <td>0.055451</td>\n",
       "    </tr>\n",
       "  </tbody>\n",
       "</table>\n",
       "<p>100 rows × 6 columns</p>\n",
       "</div>"
      ],
      "text/plain": [
       "           0    1    2         3         4         5\n",
       "0  -0.355704  2.0  1.0 -0.134909 -1.067431 -0.620024\n",
       "1   1.130074  2.0  0.0 -0.072465  1.014914  0.714236\n",
       "2   0.955670  1.0  1.0 -1.061916 -0.474874 -0.707344\n",
       "3   0.546514  3.0  3.0  1.645276  1.017216  1.346527\n",
       "4  -1.267910  3.0  3.0  0.293491  0.304471  1.312991\n",
       "..       ...  ...  ...       ...       ...       ...\n",
       "95  1.636741  3.0  1.0  0.272213  0.598163  0.549963\n",
       "96 -0.789136  0.0  0.0  1.389421  0.402969  0.116653\n",
       "97  0.522099  3.0  2.0  0.721871  1.239337  0.818064\n",
       "98 -0.310221  1.0  1.0 -0.942637 -0.277487 -0.838604\n",
       "99  2.021772  1.0  0.0 -0.129417 -0.141823  0.055451\n",
       "\n",
       "[100 rows x 6 columns]"
      ]
     },
     "execution_count": 11,
     "metadata": {},
     "output_type": "execute_result"
    }
   ],
   "source": [
    "# Creation of our first synthetic and complete dataset \n",
    "df_ref = create_dataset(n, S, K, cat, cat_idx, nb_of_cat_per_var, SNR)\n",
    "df_ref"
   ]
  },
  {
   "cell_type": "markdown",
   "metadata": {},
   "source": [
    "*Remark 1: Variables 1 and 2 are categorical variables with more than one category. Before proceeding with iFAMD imputation, we need to encode them with dummy variables.*"
   ]
  },
  {
   "cell_type": "code",
   "execution_count": 12,
   "metadata": {},
   "outputs": [
    {
     "name": "stdout",
     "output_type": "stream",
     "text": [
      "No missing values generated:  (array([], dtype=int64), array([], dtype=int64)) \n",
      "\n"
     ]
    }
   ],
   "source": [
    "print(\"No missing values generated: \",np.where(df_ref.isna()==True), \"\\n\") # Check that there are no missing values "
   ]
  },
  {
   "cell_type": "markdown",
   "metadata": {},
   "source": [
    "*Remark 2: In order to enter the frame of the study, we will need to create missingness artificially by masking some values. This technique allows us to have a ground truth to compare performances of the imputation algorithm.*"
   ]
  },
  {
   "cell_type": "markdown",
   "metadata": {},
   "source": [
    "## "
   ]
  },
  {
   "cell_type": "markdown",
   "metadata": {},
   "source": [
    "### 2- Synthetic dataframe generation for property testing"
   ]
  },
  {
   "cell_type": "markdown",
   "metadata": {},
   "source": [
    "#### 2.1 Relationships between continuous and categorical variable"
   ]
  },
  {
   "cell_type": "code",
   "execution_count": null,
   "metadata": {},
   "outputs": [],
   "source": [
    "#Parameters of the first dataset created in the paper : (3.1 Relationships between continuous and categorical variables)\n",
    "\n",
    "S = 2  # Underlying dimensions\n",
    "K = [1,3]  # K[s] = number of times the variable s (s in {1,...,S}) is duplicated in the dataset\n",
    "cat = 2 # Number of categorical variables\n",
    "cat_idx = [1,2] # Index of the categorical variables\n",
    "nb_of_cat_per_var = [4,4] # Number of categories for each categorical variable"
   ]
  },
  {
   "cell_type": "markdown",
   "metadata": {},
   "source": [
    "Generation of dataframes with varying SNR"
   ]
  },
  {
   "cell_type": "code",
   "execution_count": null,
   "metadata": {},
   "outputs": [],
   "source": [
    "df_3_1_snr1 = create_dataset(n, S, K, cat, cat_idx, nb_of_cat_per_var, SNR = 1)\n",
    "df_3_1_snr3 = create_dataset(n, S, K, cat, cat_idx, nb_of_cat_per_var, SNR = 3)"
   ]
  },
  {
   "cell_type": "markdown",
   "metadata": {},
   "source": [
    "### 2.2 Linear and nonlinear relationships"
   ]
  },
  {
   "cell_type": "code",
   "execution_count": null,
   "metadata": {},
   "outputs": [],
   "source": [
    "#Parameters of the second linear dataset created in the paper : (3.2.1 Linear and nonlinear relationships)\n",
    "\n",
    "S = 1   # Underlying dimensions\n",
    "K = [4]  # K[s] = number of times the variable s (s in {1,...,S}) is duplicated in the dataset\n",
    "\n",
    "cat = 1 # Number of categorical variables\n",
    "cat_idx = [4] #i Index of the categorical variables\n",
    "nb_of_cat_per_var = [10] # Number of categories for each categorical variable\n",
    "SNR = 5"
   ]
  },
  {
   "cell_type": "markdown",
   "metadata": {},
   "source": [
    "Generation of dataframes with linear and non linear relationships"
   ]
  },
  {
   "cell_type": "code",
   "execution_count": null,
   "metadata": {},
   "outputs": [],
   "source": [
    "df_3_2_linear = create_dataset(n, S, K, cat, cat_idx, nb_of_cat_per_var, SNR = SNR)\n",
    "df_3_2_nonlinear = df_3_2_linear.copy()\n",
    "df_3_2_nonlinear[\"1\"] = df_3_2_nonlinear[\"1\"]**2\n",
    "df_3_2_nonlinear[\"2\"] = np.cos(df_3_2_nonlinear[\"2\"])"
   ]
  },
  {
   "cell_type": "markdown",
   "metadata": {},
   "source": [
    "### 2.3 Imputation of rare categories"
   ]
  },
  {
   "cell_type": "markdown",
   "metadata": {},
   "source": [
    "Generation of dataframes with rare categories"
   ]
  },
  {
   "cell_type": "code",
   "execution_count": null,
   "metadata": {},
   "outputs": [],
   "source": [
    "# f defines the frequency of a (rare) category\n",
    "\n",
    "# For n = 100\n",
    "df_rare_f10_n100 = create_rare_df(0.1,100) # f = 0.1\n",
    "df_rare_f4_n100 = create_rare_df(0.04,100) # f = 0.04\n",
    "\n",
    "# For n = 1000\n",
    "df_rare_f10_n1000 = create_rare_df(0.1,1000) # f = 0.1\n",
    "df_rare_f4_n1000 = create_rare_df(0.04,1000) # f = 0.04\n",
    "df_rare_f1_n1000 = create_rare_df(0.01,1000) # f = 0.01\n",
    "df_rare_f04_n1000 = create_rare_df(0.004,1000) # f = 0.004"
   ]
  },
  {
   "cell_type": "markdown",
   "metadata": {},
   "source": [
    "### 2.4 Choice of the number of dimensions"
   ]
  },
  {
   "cell_type": "code",
   "execution_count": null,
   "metadata": {},
   "outputs": [],
   "source": [
    "S = 2   # Underlying dimensions\n",
    "K = [7,3]  # K[s] = number of times the variable s (s in {1,...,S}) is duplicated in the dataset\n",
    "cat = 6 # Number of categorical variables\n",
    "cat_idx = [5,6,7,8,10,11] # Index of the categorical variables\n",
    "nb_of_cat_per_var = np.full((cat),3) # Number of categories for each categorical variable"
   ]
  },
  {
   "cell_type": "markdown",
   "metadata": {},
   "source": [
    "Generation of dataframes with varying number of dimensions"
   ]
  },
  {
   "cell_type": "code",
   "execution_count": null,
   "metadata": {},
   "outputs": [],
   "source": [
    "df_3_4_snr1 = create_dataset(n, S, K, cat, cat_idx, nb_of_cat_per_var, SNR = 1)\n",
    "df_3_4_snr3 = create_dataset(n, S, K, cat, cat_idx, nb_of_cat_per_var, SNR = 3)"
   ]
  },
  {
   "cell_type": "markdown",
   "metadata": {},
   "source": [
    "### 3- Save dataframes"
   ]
  },
  {
   "cell_type": "markdown",
   "metadata": {},
   "source": [
    "If you would like to proceed onto saving the created dataframes in \"/df\", declare decision as True (defaults to False). "
   ]
  },
  {
   "cell_type": "code",
   "execution_count": null,
   "metadata": {},
   "outputs": [],
   "source": [
    "decision = False \n",
    "\n",
    "if decision: \n",
    "\n",
    "    # Relationship between continuous and categorical variables \n",
    "    df_3_1_snr1.to_csv(\"datasets/df_3_1_snr1.csv\", index=False, quoting=csv.QUOTE_NONNUMERIC)\n",
    "    df_3_1_snr3.to_csv(\"datasets/df_3_1_snr3.csv\", index=False, quoting=csv.QUOTE_NONNUMERIC)\n",
    "\n",
    "\n",
    "    # Datasets: Linear and Non-linear relationship \n",
    "    df_3_2_linear.to_csv(\"datasets/df_3_2_linear.csv\", index=False, quoting=csv.QUOTE_NONNUMERIC)\n",
    "    df_3_2_nonlinear.to_csv(\"datasets/df_3_2_nonlinear.csv\", index=False, quoting=csv.QUOTE_NONNUMERIC)\n",
    "\n",
    "\n",
    "    # Rare categories\n",
    "    df_rare_f10_n100.to_csv(\"datasets/df_rare_f10.csv\", index=False, quoting=csv.QUOTE_NONNUMERIC)\n",
    "    df_rare_f4_n100.to_csv(\"datasets/df_rare_f4_n100.csv\", index=False, quoting=csv.QUOTE_NONNUMERIC)\n",
    "    df_rare_f10_n1000.to_csv(\"datasets/df_rare_f10_n1000.csv\", index=False, quoting=csv.QUOTE_NONNUMERIC)\n",
    "    df_rare_f4_n1000.to_csv(\"datasets/df_rare_f4_n1000.csv\", index=False, quoting=csv.QUOTE_NONNUMERIC)\n",
    "    df_rare_f1_n1000.to_csv(\"datasets/df_rare_f1_n1000.csv\", index=False, quoting=csv.QUOTE_NONNUMERIC)\n",
    "    df_rare_f04_n1000.to_csv(\"datasets/df_rare_f04_n1000.csv\", index=False, quoting=csv.QUOTE_NONNUMERIC)\n",
    "\n",
    "    ## NB: In those rare df, the rare values are the \"0.0\" values in the last two columns.\n",
    "\n",
    "    # Choice number of dimensions\n",
    "    df_3_4_snr1.to_csv(\"datasets/df_3_4_snr1.csv\", index=False, quoting=csv.QUOTE_NONNUMERIC)\n",
    "    df_3_4_snr3.to_csv(\"datasets/df_3_4_snr3.csv\", index=False, quoting=csv.QUOTE_NONNUMERIC)"
   ]
  }
 ],
 "metadata": {
  "kernelspec": {
   "display_name": "base",
   "language": "python",
   "name": "python3"
  },
  "language_info": {
   "codemirror_mode": {
    "name": "ipython",
    "version": 3
   },
   "file_extension": ".py",
   "mimetype": "text/x-python",
   "name": "python",
   "nbconvert_exporter": "python",
   "pygments_lexer": "ipython3",
   "version": "3.9.13"
  }
 },
 "nbformat": 4,
 "nbformat_minor": 2
}
