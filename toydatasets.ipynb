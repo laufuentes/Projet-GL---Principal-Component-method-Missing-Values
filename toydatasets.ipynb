{
 "cells": [
  {
   "cell_type": "code",
   "execution_count": 1,
   "metadata": {},
   "outputs": [],
   "source": [
    "import numpy as np"
   ]
  },
  {
   "cell_type": "code",
   "execution_count": 51,
   "metadata": {},
   "outputs": [],
   "source": [
    "n = 10     #sample size\n",
    "\n",
    "S = 2      # underlying dimension\n",
    "K = [1,1]  #K[s] = number of times the variable s (s in {1,...,S}) is duplicated in the dataset\n",
    "nb_variables = S + sum(K) #number of variables\n",
    "\n",
    "data_shape = (nb_variables,n)\n",
    "\n",
    "k2 = 2 #number of categorical variables\n",
    "k2_i = [1,2] #index of the categorical variables"
   ]
  },
  {
   "cell_type": "code",
   "execution_count": 52,
   "metadata": {},
   "outputs": [
    {
     "data": {
      "text/plain": [
       "array([[ 0.37595607, -2.1615063 ,  0.24008713,  0.57888311, -0.0426575 ,\n",
       "        -1.2719125 , -1.31630374, -2.28072425, -0.30591626, -1.16363915],\n",
       "       [ 0.03939952,  1.79967375,  1.22939998,  0.46438283, -0.60634207,\n",
       "        -0.26186503, -2.0613603 , -0.64467155,  1.23227749, -0.5086707 ],\n",
       "       [ 0.27654335, -2.04470153,  0.38992463,  0.49824066, -0.08391871,\n",
       "        -1.35346294, -1.27792894, -2.33647457, -0.284186  , -1.25538723],\n",
       "       [ 0.07605946,  1.87554261,  1.19597768,  0.49511137, -0.62465163,\n",
       "        -0.25384392, -2.12907823, -0.6091707 ,  1.11401411, -0.44184436]])"
      ]
     },
     "execution_count": 52,
     "metadata": {},
     "output_type": "execute_result"
    }
   ],
   "source": [
    "#create S independant variables, drawn from a standard gaussian distribution\n",
    "data = np.random.normal(size = (S,n))\n",
    "\n",
    "\n",
    "#replicate each variable s (s in {1,...,S}) K_s times , to create correlated covariables:\n",
    "for s in range(S):\n",
    "    for k in range(K[s]):\n",
    "        data = np.vstack((data, data[s]))\n",
    "\n",
    "\n",
    "#add noise:\n",
    "mean_noise = 0\n",
    "std_noise = 0.05\n",
    "gaussian_noise = np.random.normal(mean_noise, std_noise, data_shape)\n",
    "\n",
    "data = data + gaussian_noise\n",
    "\n",
    "data"
   ]
  },
  {
   "cell_type": "code",
   "execution_count": null,
   "metadata": {},
   "outputs": [],
   "source": [
    "#create categorical variables :\n"
   ]
  },
  {
   "cell_type": "markdown",
   "metadata": {},
   "source": []
  }
 ],
 "metadata": {
  "kernelspec": {
   "display_name": "base",
   "language": "python",
   "name": "python3"
  },
  "language_info": {
   "codemirror_mode": {
    "name": "ipython",
    "version": 3
   },
   "file_extension": ".py",
   "mimetype": "text/x-python",
   "name": "python",
   "nbconvert_exporter": "python",
   "pygments_lexer": "ipython3",
   "version": "3.9.12"
  }
 },
 "nbformat": 4,
 "nbformat_minor": 2
}
