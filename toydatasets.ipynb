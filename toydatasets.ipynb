{
 "cells": [
  {
   "cell_type": "code",
   "execution_count": 2,
   "metadata": {},
   "outputs": [],
   "source": [
    "import numpy as np"
   ]
  },
  {
   "cell_type": "code",
   "execution_count": 40,
   "metadata": {},
   "outputs": [],
   "source": [
    "def create_dataset(n, S, K, cat, cat_idx, nb_of_cat_per_var):\n",
    "    \"\"\"Initialisation\n",
    "        Args:\n",
    "            n (int): Sample size.\n",
    "            S (int): Underlying dimension.\n",
    "            K (list of ints) : K[s] = number of times the variable s (s in {1,...,S}) is duplicated in the dataset \n",
    "            cat(int) : Number of categorical variables\n",
    "            cat_idx (list of ints) : Indexes of the categorical variables \n",
    "            nb_of_cat_per_var (list of ints) : Number of categories for each categorical variable\n",
    "    \"\"\"\n",
    "\n",
    "    #create S independant variables, drawn from a standard gaussian distribution\n",
    "    data = np.random.normal(size = (S,n))\n",
    "\n",
    "    nb_variables = S + sum(K) #number of variables expected in the final dataset\n",
    "    data_shape = (nb_variables,n)\n",
    "\n",
    "    #replicate each variable s (s in {1,...,S}) K_s times , to create correlated covariables:\n",
    "    for s in range(S):\n",
    "        for k in range(K[s]):\n",
    "            data = np.vstack((data, data[s]))\n",
    "\n",
    "    #add noise:\n",
    "    mean_noise = 0\n",
    "    std_noise = 0.05\n",
    "    gaussian_noise = np.random.normal(mean_noise, std_noise, data_shape)\n",
    "    data = data + gaussian_noise\n",
    "\n",
    "    #create categorical variables :\n",
    "    for i in range(cat): \n",
    "        idx_var = cat_idx[i] #index de la ième variable categorielle\n",
    "        nb_of_cat = nb_of_cat_per_var[i] #nombre de categories différentes dans la ième variable categorielle\n",
    "        data_i = data[idx_var] #selectionne la \n",
    "\n",
    "        #diviser data_i en nb_of_cat catégories différentes :\n",
    "        #la méthode de division en catégories peut différer d'un datset a l'autre\n",
    "        indices = np.arange(n)\n",
    "        np.random.shuffle(indices)\n",
    "        indices_cat = np.array_split(indices, nb_of_cat)\n",
    "\n",
    "        for j in range(nb_of_cat):\n",
    "            for ind in indices_cat[j]:\n",
    "                data_i[ind] = j\n",
    "\n",
    "        data[idx_var] = data_i\n",
    "    \n",
    "    return data"
   ]
  },
  {
   "cell_type": "code",
   "execution_count": 47,
   "metadata": {},
   "outputs": [
    {
     "data": {
      "text/plain": [
       "array([[-0.07479953, -0.22979304,  1.10500241, -0.7108198 , -0.18892163,\n",
       "         0.65679121,  0.52724767, -0.06101519,  0.89301813, -1.11017719],\n",
       "       [ 1.        ,  0.        ,  0.        ,  0.        ,  1.        ,\n",
       "         1.        ,  1.        ,  0.        ,  0.        ,  1.        ],\n",
       "       [ 1.        ,  1.        ,  2.        ,  0.        ,  2.        ,\n",
       "         0.        ,  3.        ,  3.        ,  1.        ,  0.        ],\n",
       "       [ 0.90762068,  1.74632323,  0.94586346, -1.60094748, -0.19271921,\n",
       "        -0.10991529, -0.20221766,  0.97544696, -0.18841348, -1.48358551],\n",
       "       [ 0.92680497,  1.71921508,  1.01001975, -1.65606633, -0.15967713,\n",
       "        -0.1112321 , -0.09532762,  1.02824   , -0.20394305, -1.47834362],\n",
       "       [ 0.92671725,  1.73979733,  0.84963376, -1.58409169, -0.043857  ,\n",
       "        -0.06129569, -0.19635403,  1.02114926, -0.18343495, -1.47747779]])"
      ]
     },
     "execution_count": 47,
     "metadata": {},
     "output_type": "execute_result"
    }
   ],
   "source": [
    "#Exemple de dataset créé :\n",
    "\n",
    "n = 10     #sample size\n",
    "S = 2      # underlying dimension\n",
    "K = [1,3]  #K[s] = number of times the variable s (s in {1,...,S}) is duplicated in the dataset\n",
    "cat = 2 #number of categorical variables\n",
    "cat_idx = [1,2] #index of the categorical variables\n",
    "nb_of_cat_per_var = [2,4] #number of categories for each categorical variable\n",
    "\n",
    "create_dataset(n, S, K, cat, cat_idx, nb_of_cat_per_var)"
   ]
  },
  {
   "cell_type": "markdown",
   "metadata": {},
   "source": []
  },
  {
   "cell_type": "code",
   "execution_count": 45,
   "metadata": {},
   "outputs": [],
   "source": [
    "n = 100"
   ]
  },
  {
   "cell_type": "code",
   "execution_count": 46,
   "metadata": {},
   "outputs": [],
   "source": [
    "#Paramètres du premier dataset créé dans le papier : (3.1 Relationships between continuous and categorical variables)\n",
    "\n",
    "S = 2   \n",
    "K = [1,3]  #K[s] = number of times the variable s (s in {1,...,S}) is duplicated in the dataset\n",
    "\n",
    "cat = 2 #number of categorical variables\n",
    "cat_idx = [1,2] #index of the categorical variables\n",
    "nb_of_cat_per_var = [4,4] #number of categories for each categorical variable"
   ]
  },
  {
   "cell_type": "code",
   "execution_count": null,
   "metadata": {},
   "outputs": [],
   "source": [
    "#Paramètres du deuxième dataset créé dans le papier : (3.2.1 Linear and nonlinear relationships)\n",
    "\n",
    "S = 1   \n",
    "K = [5]  #K[s] = number of times the variable s (s in {1,...,S}) is duplicated in the dataset\n",
    "\n",
    "cat = 3 #number of categorical variables\n",
    "cat_idx = [3,4,5] #index of the categorical variables\n",
    "nb_of_cat_per_var = [4,4] #number of categories for each categorical variable"
   ]
  },
  {
   "cell_type": "code",
   "execution_count": null,
   "metadata": {},
   "outputs": [],
   "source": []
  }
 ],
 "metadata": {
  "kernelspec": {
   "display_name": "base",
   "language": "python",
   "name": "python3"
  },
  "language_info": {
   "codemirror_mode": {
    "name": "ipython",
    "version": 3
   },
   "file_extension": ".py",
   "mimetype": "text/x-python",
   "name": "python",
   "nbconvert_exporter": "python",
   "pygments_lexer": "ipython3",
   "version": "3.9.12"
  }
 },
 "nbformat": 4,
 "nbformat_minor": 2
}
