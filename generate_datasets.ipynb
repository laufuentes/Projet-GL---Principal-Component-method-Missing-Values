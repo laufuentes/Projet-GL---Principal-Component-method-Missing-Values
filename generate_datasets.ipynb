{
 "cells": [
  {
   "cell_type": "markdown",
   "metadata": {},
   "source": [
    "Let's generate synthetic datasets !"
   ]
  },
  {
   "cell_type": "code",
   "execution_count": 4,
   "metadata": {},
   "outputs": [],
   "source": [
    "import numpy as np\n",
    "import pandas as pd\n",
    "import matplotlib.pyplot as plt\n",
    "import csv\n",
    "\n",
    "from src.utils import *\n",
    "from src.algorithms import * \n",
    "from src.metrics_FAMD import *"
   ]
  },
  {
   "cell_type": "code",
   "execution_count": 5,
   "metadata": {},
   "outputs": [],
   "source": [
    "# Set random seed to create reproductible results\n",
    "np.random.seed(21032024)\n",
    "\n",
    "# Sample size :\n",
    "n = 100"
   ]
  },
  {
   "cell_type": "markdown",
   "metadata": {},
   "source": [
    "3.1 Relationships between continuous and categorical variable"
   ]
  },
  {
   "cell_type": "code",
   "execution_count": 6,
   "metadata": {},
   "outputs": [],
   "source": [
    "#Parameters of the first dataset created in the paper : (3.1 Relationships between continuous and categorical variables)\n",
    "\n",
    "S = 2   \n",
    "K = [1,3]  #K[s] = number of times the variable s (s in {1,...,S}) is duplicated in the dataset\n",
    "cat = 2 #number of categorical variables\n",
    "cat_idx = [1,2] #index of the categorical variables\n",
    "nb_of_cat_per_var = [4,4] #number of categories for each categorical variable\n",
    "\n",
    "\n",
    "# NB: high SNR implies that the variables in each group are very linked\n",
    "\n",
    "df_3_1_snr1 = create_dataset(n, S, K, cat, cat_idx, nb_of_cat_per_var, SNR = 1)\n",
    "df_3_1_snr3 = create_dataset(n, S, K, cat, cat_idx, nb_of_cat_per_var, SNR = 3)\n",
    "#df_3_1_snr1.to_csv(\"datasets/df_3_1_snr1.csv\", index=False, quoting=csv.QUOTE_NONNUMERIC)\n",
    "#df_3_1_snr3.to_csv(\"datasets/df_3_1_snr3.csv\", index=False, quoting=csv.QUOTE_NONNUMERIC)"
   ]
  },
  {
   "cell_type": "markdown",
   "metadata": {},
   "source": [
    "3.2.1 Linear and nonlinear relationships"
   ]
  },
  {
   "cell_type": "code",
   "execution_count": 23,
   "metadata": {},
   "outputs": [],
   "source": [
    "#Parameters of the second linear dataset created in the paper : (3.2.1 Linear and nonlinear relationships)\n",
    "\n",
    "S = 1   \n",
    "K = [4]  #K[s] = number of times the variable s (s in {1,...,S}) is duplicated in the dataset\n",
    "\n",
    "cat = 1 #number of categorical variables\n",
    "cat_idx = [4] #index of the categorical variables\n",
    "nb_of_cat_per_var = [10] #number of categories for each categorical variable\n",
    "SNR = 5\n",
    "\n",
    "df_3_2_linear = create_dataset(n, S, K, cat, cat_idx, nb_of_cat_per_var, SNR = SNR)\n",
    "df_3_2_linear.to_csv(\"datasets/df_3_2_linear.csv\", index=False, quoting=csv.QUOTE_NONNUMERIC)\n",
    "\n",
    "#create the nonlinear version of the previous dataset :\n",
    "df_3_2_nonlinear = df_3_2_linear.copy()\n",
    "df_3_2_nonlinear[\"1\"] = df_3_2_nonlinear[\"1\"]**2\n",
    "df_3_2_nonlinear[\"2\"] = np.cos(df_3_2_nonlinear[\"2\"])\n",
    "df_3_2_nonlinear.to_csv(\"datasets/df_3_2_nonlinear.csv\", index=False, quoting=csv.QUOTE_NONNUMERIC)"
   ]
  },
  {
   "cell_type": "markdown",
   "metadata": {},
   "source": [
    "3.3 Imputation of rare categories"
   ]
  },
  {
   "cell_type": "code",
   "execution_count": 24,
   "metadata": {},
   "outputs": [],
   "source": [
    "#Parameters of the rare categories dataset created in the paper : (3.3 Imputation of rare categories)\n",
    "S = 1   \n",
    "K = [4]\n",
    "SNR = 5\n",
    "f = 0.1 # frequency of the rare category\n",
    "\n",
    "def create_rare_df(f,n):\n",
    "    \"\"\"Create dataset with rare categories, as described in section 3.3 of the paper\n",
    "    f (float) : frequency of the rare categories\n",
    "    n (int) : sample size\n",
    "    \"\"\"\n",
    "     \n",
    "    # Create df with continuous variables\n",
    "    df_rare = create_dataset(n, S, K, 0, [], [], SNR = SNR)\n",
    "\n",
    "    # Create the rare categorical variables, following the paper method :\n",
    "    cat = 3 #number of categorical variables\n",
    "    cat_idx = [\"2\",\"3\",\"4\"] #index of the categorical variables\n",
    "    nb_of_cat_per_var = [3,3,3] #number of categories for each categorical variable\n",
    "\n",
    "\n",
    "    # first cat variable :\n",
    "    idx_var = cat_idx[0] \n",
    "    nb_of_cat = nb_of_cat_per_var[0]\n",
    "    df_i = df_rare[idx_var] \n",
    "    indices = np.arange(n)\n",
    "    np.random.shuffle(indices)\n",
    "    indices_cat = np.array_split(indices, nb_of_cat)\n",
    "    for j in range(nb_of_cat):\n",
    "        for ind in indices_cat[j]:\n",
    "            df_i[ind] = j\n",
    "    df_rare[idx_var] = df_i\n",
    "\n",
    "\n",
    "    # code the two linked rare categorical variables :\n",
    "    nb_of_cat = nb_of_cat_per_var[1]\n",
    "    df_1 = df_rare[cat_idx[1]]\n",
    "    df_2 = df_rare[cat_idx[2]]\n",
    "    np.random.shuffle(indices)\n",
    "    nb_rare = int(f * n)\n",
    "    indices_rare = indices[0:nb_rare]\n",
    "    indices_non_rare = np.setdiff1d(indices, indices_rare)\n",
    "    np.random.shuffle(indices_non_rare)\n",
    "    for ind in indices_rare:\n",
    "            df_1[ind] = 0\n",
    "            df_2[ind] = 0\n",
    "\n",
    "    indices_cat1 = np.array_split(indices_non_rare, nb_of_cat-1)\n",
    "    for j in range(0,nb_of_cat-1):\n",
    "        for ind in indices_cat1[j]:\n",
    "            df_1[ind] = j+1\n",
    "    df_rare[cat_idx[1]] = df_1\n",
    "\n",
    "    np.random.shuffle(indices_non_rare)\n",
    "    indices_cat2 = np.array_split(indices_non_rare, nb_of_cat-1)\n",
    "    for j in range(0,nb_of_cat-1):\n",
    "        for ind in indices_cat2[j]:\n",
    "            df_2[ind] = j+1\n",
    "    df_rare[cat_idx[2]] = df_2\n",
    "\n",
    "    return df_rare\n",
    "\n",
    "\n",
    "\n"
   ]
  },
  {
   "cell_type": "code",
   "execution_count": 25,
   "metadata": {},
   "outputs": [],
   "source": [
    "df_rare_f10_n100 = create_rare_df(0.1,100)\n",
    "df_rare_f4_n100 = create_rare_df(0.04,100)\n",
    "df_rare_f10_n1000 = create_rare_df(0.1,1000)\n",
    "df_rare_f4_n1000 = create_rare_df(0.04,1000)\n",
    "df_rare_f1_n1000 = create_rare_df(0.01,1000)\n",
    "df_rare_f04_n1000 = create_rare_df(0.004,1000)\n"
   ]
  },
  {
   "cell_type": "markdown",
   "metadata": {},
   "source": [
    "In those rare df, the rare values are the \"0.0\" values in the last two columns."
   ]
  },
  {
   "cell_type": "code",
   "execution_count": 26,
   "metadata": {},
   "outputs": [],
   "source": [
    "df_rare_f10_n100.to_csv(\"datasets/df_rare_f10.csv\", index=False, quoting=csv.QUOTE_NONNUMERIC)\n",
    "df_rare_f4_n100.to_csv(\"datasets/df_rare_f4_n100.csv\", index=False, quoting=csv.QUOTE_NONNUMERIC)\n",
    "df_rare_f10_n1000.to_csv(\"datasets/df_rare_f10_n1000.csv\", index=False, quoting=csv.QUOTE_NONNUMERIC)\n",
    "df_rare_f4_n1000.to_csv(\"datasets/df_rare_f4_n1000.csv\", index=False, quoting=csv.QUOTE_NONNUMERIC)\n",
    "df_rare_f1_n1000.to_csv(\"datasets/df_rare_f1_n1000.csv\", index=False, quoting=csv.QUOTE_NONNUMERIC)\n",
    "df_rare_f04_n1000.to_csv(\"datasets/df_rare_f04_n1000.csv\", index=False, quoting=csv.QUOTE_NONNUMERIC)"
   ]
  },
  {
   "cell_type": "markdown",
   "metadata": {},
   "source": [
    "3.4 Choice of the number of dimensions"
   ]
  },
  {
   "cell_type": "code",
   "execution_count": 27,
   "metadata": {},
   "outputs": [],
   "source": [
    "S = 2   \n",
    "K = [7,3]  #K[s] = number of times the variable s (s in {1,...,S}) is duplicated in the dataset\n",
    "cat = 6 #number of categorical variables\n",
    "cat_idx = [5,6,7,8,10,11] #index of the categorical variables\n",
    "nb_of_cat_per_var = np.full((cat),3) #number of categories for each categorical variable\n",
    "\n",
    "df_3_4_snr1 = create_dataset(n, S, K, cat, cat_idx, nb_of_cat_per_var, SNR = 1)\n",
    "df_3_4_snr3 = create_dataset(n, S, K, cat, cat_idx, nb_of_cat_per_var, SNR = 3)\n",
    "df_3_4_snr1.to_csv(\"datasets/df_3_4_snr1.csv\", index=False, quoting=csv.QUOTE_NONNUMERIC)\n",
    "df_3_4_snr3.to_csv(\"datasets/df_3_4_snr3.csv\", index=False, quoting=csv.QUOTE_NONNUMERIC)\n"
   ]
  }
 ],
 "metadata": {
  "kernelspec": {
   "display_name": "base",
   "language": "python",
   "name": "python3"
  },
  "language_info": {
   "codemirror_mode": {
    "name": "ipython",
    "version": 3
   },
   "file_extension": ".py",
   "mimetype": "text/x-python",
   "name": "python",
   "nbconvert_exporter": "python",
   "pygments_lexer": "ipython3",
   "version": "3.9.12"
  }
 },
 "nbformat": 4,
 "nbformat_minor": 2
}
