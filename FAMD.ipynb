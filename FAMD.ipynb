{
 "cells": [
  {
   "cell_type": "code",
   "execution_count": 75,
   "metadata": {},
   "outputs": [],
   "source": [
    "import numpy as np\n",
    "import pandas as pd\n",
    "from src.utils import * "
   ]
  },
  {
   "cell_type": "code",
   "execution_count": 11,
   "metadata": {},
   "outputs": [
    {
     "data": {
      "text/plain": [
       "(array([], dtype=int64), array([], dtype=int64))"
      ]
     },
     "execution_count": 11,
     "metadata": {},
     "output_type": "execute_result"
    }
   ],
   "source": [
    "gbsg = pd.read_csv(\"../GBSG2\")\n",
    "\n",
    "# On a un jeu de données complet: \n",
    "np.where(gbsg.isna()==True)"
   ]
  },
  {
   "cell_type": "markdown",
   "metadata": {},
   "source": [
    "On détermine $I$ et $J$: "
   ]
  },
  {
   "cell_type": "code",
   "execution_count": 12,
   "metadata": {},
   "outputs": [],
   "source": [
    "I, J = gbsg.shape"
   ]
  },
  {
   "cell_type": "markdown",
   "metadata": {},
   "source": [
    "Trouver $K_1$, $K_2$"
   ]
  },
  {
   "cell_type": "code",
   "execution_count": 16,
   "metadata": {},
   "outputs": [],
   "source": [
    "# Variables continues\n",
    "idx_k1 = gbsg.columns[(gbsg.isin([0, 1])==False).any()]\n",
    "\n",
    "#Variables encodées en dummy variables \n",
    "idx_j = gbsg.columns[(gbsg.isin([0, 1])).all()]"
   ]
  },
  {
   "cell_type": "code",
   "execution_count": 46,
   "metadata": {},
   "outputs": [
    {
     "data": {
      "text/plain": [
       "array([0.75977594, 0.59883268, 0.66019698])"
      ]
     },
     "execution_count": 46,
     "metadata": {},
     "output_type": "execute_result"
    }
   ],
   "source": [
    "s = df1.std(axis=0).to_numpy()\n",
    "p = np.sqrt(df2.sum(axis=0)/df2.shape[0]).to_numpy() "
   ]
  },
  {
   "cell_type": "code",
   "execution_count": 47,
   "metadata": {},
   "outputs": [],
   "source": [
    "class IterativeFAMDImputer(FAMD):\n",
    "    def __init__(self, n_components=2):\n",
    "        \"\"\"Initialisation\n",
    "        Args:\n",
    "            n_components (int, optional): _description_. Defaults to 2.\n",
    "            data (_type_, optional): _description_. Defaults to None.\n",
    "        \"\"\"\n",
    "        self.n_components = n_components\n",
    "\n",
    "    def inital_impute(self, data):\n",
    "        #Pour les variables continues\n",
    "        Ximp_C0 = data[self.k1].copy()  \n",
    "        mean = data[self.k1].mean(axis=0)\n",
    "        Ximp_C0.fillna(mean) # imputation par la moyenne\n",
    "        self.df_C0 = Ximp_C0\n",
    "\n",
    "        # Pour les variables catégorielles \n",
    "        Ximp_categ = data[self.j].copy()  \n",
    "        pj = data[self.j].sum(axis=0)/data.shape[0]\n",
    "        Ximp_categ.fillna(pj) # imputation par la proportion pj\n",
    "        self.df_categ = Ximp_categ\n",
    "        pass \n",
    "        \n",
    "    def impute(self, Xobs, n_it, tol=1e-4,verbose=False):\n",
    "        \n",
    "        # Initialisation \n",
    "        idx_NA = Xobs.isna().astype(int)\n",
    "        #Initial imputation \n",
    "        self.inital_impute(Xobs)\n",
    "        self.df() # on construit les données avec df_C0 et df_categ remplis \n",
    "\n",
    "        self.DM()\n",
    "        Ximp = self.XD_moins_sqrt - self.M \n",
    "        diff = np.inf\n",
    "        i= 0\n",
    "        while i < n_it and diff > tol: \n",
    "            U, S, Vt = np.linalg.svd(Ximp.values)\n",
    "            Z_p = pd.DataFrame(U[:,:self.n_components]@ np.diag(S)[:self.n_components,:self.n_components] @Vt[:self.n_components,:], columns=Ximp.columns, index=Ximp.index)\n",
    "            Ximp_ = (1-M)*Z_p + M*Ximp\n",
    "            mu += Ximp_.mean(axis=0)\n",
    "            Ximp = Ximp_ - Ximp_.mean(axis=0)\n",
    "            Xreconstr = Ximp + mu \n",
    "            diff = ((Xreconstr - Ximp - Ximp_.mean(axis=0) )**2).mean().mean()\n",
    "            i +=1 \n",
    "        if i < n_it: \n",
    "            print('Converged in', i)\n",
    "        else: \n",
    "              print('Maximum iterations reached')    \n",
    "        return Xreconstr"
   ]
  },
  {
   "cell_type": "code",
   "execution_count": null,
   "metadata": {},
   "outputs": [],
   "source": []
  }
 ],
 "metadata": {
  "kernelspec": {
   "display_name": "Python 3",
   "language": "python",
   "name": "python3"
  },
  "language_info": {
   "codemirror_mode": {
    "name": "ipython",
    "version": 3
   },
   "file_extension": ".py",
   "mimetype": "text/x-python",
   "name": "python",
   "nbconvert_exporter": "python",
   "pygments_lexer": "ipython3",
   "version": "3.9.13"
  }
 },
 "nbformat": 4,
 "nbformat_minor": 2
}
