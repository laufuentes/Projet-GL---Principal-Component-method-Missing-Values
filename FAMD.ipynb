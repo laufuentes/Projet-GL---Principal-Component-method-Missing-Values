{
 "cells": [
  {
   "cell_type": "code",
   "execution_count": 1,
   "metadata": {},
   "outputs": [],
   "source": [
    "import numpy as np\n",
    "import pandas as pd\n",
    "from src.utils import * \n",
    "from src.metrics_FAMD import *"
   ]
  },
  {
   "cell_type": "code",
   "execution_count": 2,
   "metadata": {},
   "outputs": [
    {
     "data": {
      "text/plain": [
       "(array([], dtype=int64), array([], dtype=int64))"
      ]
     },
     "execution_count": 2,
     "metadata": {},
     "output_type": "execute_result"
    }
   ],
   "source": [
    "gbsg = pd.read_csv(\"../GBSG2\")\n",
    "\n",
    "# On a un jeu de données complet: \n",
    "np.where(gbsg.isna()==True)"
   ]
  },
  {
   "cell_type": "code",
   "execution_count": 3,
   "metadata": {},
   "outputs": [],
   "source": [
    "n_it = 100"
   ]
  },
  {
   "cell_type": "markdown",
   "metadata": {},
   "source": [
    "On détermine $I$ et $J$: "
   ]
  },
  {
   "cell_type": "code",
   "execution_count": 4,
   "metadata": {},
   "outputs": [],
   "source": [
    "I, J = gbsg.shape"
   ]
  },
  {
   "cell_type": "markdown",
   "metadata": {},
   "source": [
    "Trouver $K_1$, $K_2$"
   ]
  },
  {
   "cell_type": "code",
   "execution_count": 5,
   "metadata": {},
   "outputs": [],
   "source": [
    "# Variables continues\n",
    "idx_k1 = gbsg.columns[(gbsg.isin([0, 1])==False).any()]"
   ]
  },
  {
   "cell_type": "code",
   "execution_count": 6,
   "metadata": {},
   "outputs": [],
   "source": [
    "for i in gbsg.columns[(gbsg.isin([0, 1])).all()].to_numpy(): \n",
    "    gbsg[i+'_'] = 1-gbsg[i]\n",
    "\n",
    "#Variables encodées en dummy variables \n",
    "idx_j = gbsg.columns[(gbsg.isin([0, 1])).all()]"
   ]
  },
  {
   "cell_type": "code",
   "execution_count": 7,
   "metadata": {},
   "outputs": [],
   "source": [
    "# we compute the missingness on categories before being processed\n",
    "proba_non_missing = 0.8\n",
    "\n",
    "data_missing_without_last_cat = gbsg.iloc[:,:-3].mask(np.random.random(size=(gbsg.iloc[:,:-3].shape))>proba_non_missing)\n",
    "data_missing_last_cat = gbsg[['status_', 'meno_', 'hormon_']].mask(data_missing_without_last_cat[['status', 'meno', 'hormon']].isna().to_numpy())\n",
    "data_missing = pd.concat((data_missing_without_last_cat, data_missing_last_cat), axis=1)"
   ]
  },
  {
   "cell_type": "code",
   "execution_count": 8,
   "metadata": {},
   "outputs": [
    {
     "data": {
      "text/plain": [
       "0.20501874219075386"
      ]
     },
     "execution_count": 8,
     "metadata": {},
     "output_type": "execute_result"
    }
   ],
   "source": [
    "n_missing = data_missing.isna().sum().sum()\n",
    "n_missing/(data_missing.shape[0]*data_missing.shape[1])"
   ]
  },
  {
   "cell_type": "code",
   "execution_count": 9,
   "metadata": {},
   "outputs": [],
   "source": [
    "famd_algo = FAMD(data=gbsg, k1=idx_k1, k2=idx_j)\n",
    "# famd_algo.run_famd()"
   ]
  },
  {
   "cell_type": "code",
   "execution_count": 10,
   "metadata": {},
   "outputs": [
    {
     "name": "stdout",
     "output_type": "stream",
     "text": [
      "Maximum iterations reached\n"
     ]
    },
    {
     "data": {
      "text/html": [
       "<div>\n",
       "<style scoped>\n",
       "    .dataframe tbody tr th:only-of-type {\n",
       "        vertical-align: middle;\n",
       "    }\n",
       "\n",
       "    .dataframe tbody tr th {\n",
       "        vertical-align: top;\n",
       "    }\n",
       "\n",
       "    .dataframe thead th {\n",
       "        text-align: right;\n",
       "    }\n",
       "</style>\n",
       "<table border=\"1\" class=\"dataframe\">\n",
       "  <thead>\n",
       "    <tr style=\"text-align: right;\">\n",
       "      <th></th>\n",
       "      <th>pid</th>\n",
       "      <th>age</th>\n",
       "      <th>size</th>\n",
       "      <th>grade</th>\n",
       "      <th>nodes</th>\n",
       "      <th>pgr</th>\n",
       "      <th>er</th>\n",
       "      <th>rfstime</th>\n",
       "      <th>meno</th>\n",
       "      <th>hormon</th>\n",
       "      <th>status</th>\n",
       "      <th>meno_</th>\n",
       "      <th>hormon_</th>\n",
       "      <th>status_</th>\n",
       "    </tr>\n",
       "  </thead>\n",
       "  <tbody>\n",
       "    <tr>\n",
       "      <th>0</th>\n",
       "      <td>132.000000</td>\n",
       "      <td>49.000000</td>\n",
       "      <td>18.000000</td>\n",
       "      <td>2.000000</td>\n",
       "      <td>2.000000</td>\n",
       "      <td>0.000000</td>\n",
       "      <td>0.000000</td>\n",
       "      <td>1838.000000</td>\n",
       "      <td>0.539646</td>\n",
       "      <td>0.430414</td>\n",
       "      <td>0.462191</td>\n",
       "      <td>0.460354</td>\n",
       "      <td>0.569586</td>\n",
       "      <td>0.537809</td>\n",
       "    </tr>\n",
       "    <tr>\n",
       "      <th>1</th>\n",
       "      <td>890.488175</td>\n",
       "      <td>55.000000</td>\n",
       "      <td>20.000000</td>\n",
       "      <td>3.000000</td>\n",
       "      <td>16.000000</td>\n",
       "      <td>0.000000</td>\n",
       "      <td>0.000000</td>\n",
       "      <td>1133.446691</td>\n",
       "      <td>0.527949</td>\n",
       "      <td>0.338618</td>\n",
       "      <td>0.453466</td>\n",
       "      <td>0.000000</td>\n",
       "      <td>0.661773</td>\n",
       "      <td>0.545994</td>\n",
       "    </tr>\n",
       "    <tr>\n",
       "      <th>2</th>\n",
       "      <td>1140.000000</td>\n",
       "      <td>56.000000</td>\n",
       "      <td>40.000000</td>\n",
       "      <td>3.000000</td>\n",
       "      <td>5.193487</td>\n",
       "      <td>40.164059</td>\n",
       "      <td>82.172385</td>\n",
       "      <td>1133.446691</td>\n",
       "      <td>1.000000</td>\n",
       "      <td>0.347403</td>\n",
       "      <td>0.000000</td>\n",
       "      <td>0.000000</td>\n",
       "      <td>0.652584</td>\n",
       "      <td>1.000000</td>\n",
       "    </tr>\n",
       "    <tr>\n",
       "      <th>3</th>\n",
       "      <td>769.000000</td>\n",
       "      <td>45.000000</td>\n",
       "      <td>35.186228</td>\n",
       "      <td>2.124304</td>\n",
       "      <td>7.321847</td>\n",
       "      <td>0.000000</td>\n",
       "      <td>4.000000</td>\n",
       "      <td>177.000000</td>\n",
       "      <td>0.539625</td>\n",
       "      <td>0.000000</td>\n",
       "      <td>0.000000</td>\n",
       "      <td>0.460375</td>\n",
       "      <td>0.706759</td>\n",
       "      <td>1.000000</td>\n",
       "    </tr>\n",
       "    <tr>\n",
       "      <th>4</th>\n",
       "      <td>979.402892</td>\n",
       "      <td>65.000000</td>\n",
       "      <td>30.000000</td>\n",
       "      <td>2.000000</td>\n",
       "      <td>5.193487</td>\n",
       "      <td>35.512569</td>\n",
       "      <td>330.001071</td>\n",
       "      <td>1769.810425</td>\n",
       "      <td>1.000000</td>\n",
       "      <td>1.000000</td>\n",
       "      <td>0.000000</td>\n",
       "      <td>0.000000</td>\n",
       "      <td>0.000000</td>\n",
       "      <td>1.000000</td>\n",
       "    </tr>\n",
       "    <tr>\n",
       "      <th>...</th>\n",
       "      <td>...</td>\n",
       "      <td>...</td>\n",
       "      <td>...</td>\n",
       "      <td>...</td>\n",
       "      <td>...</td>\n",
       "      <td>...</td>\n",
       "      <td>...</td>\n",
       "      <td>...</td>\n",
       "      <td>...</td>\n",
       "      <td>...</td>\n",
       "      <td>...</td>\n",
       "      <td>...</td>\n",
       "      <td>...</td>\n",
       "      <td>...</td>\n",
       "    </tr>\n",
       "    <tr>\n",
       "      <th>681</th>\n",
       "      <td>970.001148</td>\n",
       "      <td>51.000000</td>\n",
       "      <td>30.000000</td>\n",
       "      <td>3.000000</td>\n",
       "      <td>2.000000</td>\n",
       "      <td>1152.000000</td>\n",
       "      <td>38.000000</td>\n",
       "      <td>1760.000000</td>\n",
       "      <td>0.000000</td>\n",
       "      <td>1.000000</td>\n",
       "      <td>0.000000</td>\n",
       "      <td>1.000000</td>\n",
       "      <td>0.000000</td>\n",
       "      <td>1.000000</td>\n",
       "    </tr>\n",
       "    <tr>\n",
       "      <th>682</th>\n",
       "      <td>1273.000000</td>\n",
       "      <td>64.000000</td>\n",
       "      <td>26.000000</td>\n",
       "      <td>2.124304</td>\n",
       "      <td>4.626638</td>\n",
       "      <td>1356.000000</td>\n",
       "      <td>1144.000000</td>\n",
       "      <td>1133.446691</td>\n",
       "      <td>1.237794</td>\n",
       "      <td>0.849855</td>\n",
       "      <td>-0.058625</td>\n",
       "      <td>-0.234915</td>\n",
       "      <td>0.000000</td>\n",
       "      <td>1.059886</td>\n",
       "    </tr>\n",
       "    <tr>\n",
       "      <th>683</th>\n",
       "      <td>1525.000000</td>\n",
       "      <td>57.000000</td>\n",
       "      <td>35.000000</td>\n",
       "      <td>3.000000</td>\n",
       "      <td>1.000000</td>\n",
       "      <td>1490.000000</td>\n",
       "      <td>93.651685</td>\n",
       "      <td>1048.443353</td>\n",
       "      <td>1.000000</td>\n",
       "      <td>0.346310</td>\n",
       "      <td>0.000000</td>\n",
       "      <td>0.000000</td>\n",
       "      <td>0.000000</td>\n",
       "      <td>1.000000</td>\n",
       "    </tr>\n",
       "    <tr>\n",
       "      <th>684</th>\n",
       "      <td>736.000000</td>\n",
       "      <td>33.250928</td>\n",
       "      <td>30.877934</td>\n",
       "      <td>1.852972</td>\n",
       "      <td>3.000000</td>\n",
       "      <td>1600.000000</td>\n",
       "      <td>70.000000</td>\n",
       "      <td>629.000000</td>\n",
       "      <td>0.539625</td>\n",
       "      <td>0.000000</td>\n",
       "      <td>0.000000</td>\n",
       "      <td>0.460375</td>\n",
       "      <td>0.604567</td>\n",
       "      <td>1.000000</td>\n",
       "    </tr>\n",
       "    <tr>\n",
       "      <th>685</th>\n",
       "      <td>894.000000</td>\n",
       "      <td>80.000000</td>\n",
       "      <td>7.000000</td>\n",
       "      <td>2.000000</td>\n",
       "      <td>7.000000</td>\n",
       "      <td>2380.000000</td>\n",
       "      <td>972.000000</td>\n",
       "      <td>758.000000</td>\n",
       "      <td>1.000000</td>\n",
       "      <td>1.000000</td>\n",
       "      <td>0.000000</td>\n",
       "      <td>0.000000</td>\n",
       "      <td>0.000000</td>\n",
       "      <td>1.000000</td>\n",
       "    </tr>\n",
       "  </tbody>\n",
       "</table>\n",
       "<p>686 rows × 14 columns</p>\n",
       "</div>"
      ],
      "text/plain": [
       "             pid        age       size     grade      nodes          pgr  \\\n",
       "0     132.000000  49.000000  18.000000  2.000000   2.000000     0.000000   \n",
       "1     890.488175  55.000000  20.000000  3.000000  16.000000     0.000000   \n",
       "2    1140.000000  56.000000  40.000000  3.000000   5.193487    40.164059   \n",
       "3     769.000000  45.000000  35.186228  2.124304   7.321847     0.000000   \n",
       "4     979.402892  65.000000  30.000000  2.000000   5.193487    35.512569   \n",
       "..           ...        ...        ...       ...        ...          ...   \n",
       "681   970.001148  51.000000  30.000000  3.000000   2.000000  1152.000000   \n",
       "682  1273.000000  64.000000  26.000000  2.124304   4.626638  1356.000000   \n",
       "683  1525.000000  57.000000  35.000000  3.000000   1.000000  1490.000000   \n",
       "684   736.000000  33.250928  30.877934  1.852972   3.000000  1600.000000   \n",
       "685   894.000000  80.000000   7.000000  2.000000   7.000000  2380.000000   \n",
       "\n",
       "              er      rfstime      meno    hormon    status     meno_  \\\n",
       "0       0.000000  1838.000000  0.539646  0.430414  0.462191  0.460354   \n",
       "1       0.000000  1133.446691  0.527949  0.338618  0.453466  0.000000   \n",
       "2      82.172385  1133.446691  1.000000  0.347403  0.000000  0.000000   \n",
       "3       4.000000   177.000000  0.539625  0.000000  0.000000  0.460375   \n",
       "4     330.001071  1769.810425  1.000000  1.000000  0.000000  0.000000   \n",
       "..           ...          ...       ...       ...       ...       ...   \n",
       "681    38.000000  1760.000000  0.000000  1.000000  0.000000  1.000000   \n",
       "682  1144.000000  1133.446691  1.237794  0.849855 -0.058625 -0.234915   \n",
       "683    93.651685  1048.443353  1.000000  0.346310  0.000000  0.000000   \n",
       "684    70.000000   629.000000  0.539625  0.000000  0.000000  0.460375   \n",
       "685   972.000000   758.000000  1.000000  1.000000  0.000000  0.000000   \n",
       "\n",
       "      hormon_   status_  \n",
       "0    0.569586  0.537809  \n",
       "1    0.661773  0.545994  \n",
       "2    0.652584  1.000000  \n",
       "3    0.706759  1.000000  \n",
       "4    0.000000  1.000000  \n",
       "..        ...       ...  \n",
       "681  0.000000  1.000000  \n",
       "682  0.000000  1.059886  \n",
       "683  0.000000  1.000000  \n",
       "684  0.604567  1.000000  \n",
       "685  0.000000  1.000000  \n",
       "\n",
       "[686 rows x 14 columns]"
      ]
     },
     "execution_count": 10,
     "metadata": {},
     "output_type": "execute_result"
    }
   ],
   "source": [
    "ifamd = IterativeFAMDImputer(n_components=4, data=data_missing, k1=idx_k1, k2=idx_j)\n",
    "ifamd.impute(100)"
   ]
  },
  {
   "cell_type": "markdown",
   "metadata": {},
   "source": [
    "#### To ensure that we are only considering TPR and NRMSE scores on imputed data: "
   ]
  },
  {
   "cell_type": "code",
   "execution_count": 11,
   "metadata": {},
   "outputs": [],
   "source": [
    "C0_missing = data_missing.isna()[ifamd.k1].to_numpy()\n",
    "Categ_missing = data_missing.isna()[ifamd.k2].to_numpy()"
   ]
  },
  {
   "cell_type": "markdown",
   "metadata": {},
   "source": [
    "#### Falsely classified Rate: "
   ]
  },
  {
   "cell_type": "code",
   "execution_count": 12,
   "metadata": {},
   "outputs": [
    {
     "data": {
      "text/plain": [
       "array([0.31449631, 0.28255528, 0.19410319, 0.35135135, 0.28255528,\n",
       "       0.21375921])"
      ]
     },
     "execution_count": 12,
     "metadata": {},
     "output_type": "execute_result"
    }
   ],
   "source": [
    "# We encode categories into 0,1\n",
    "res = (ifamd.df[ifamd.k2].copy()>=0.5).astype(int)\n",
    "\n",
    "metric_fc(res[Categ_missing], gbsg[ifamd.k2][Categ_missing])"
   ]
  },
  {
   "cell_type": "markdown",
   "metadata": {},
   "source": [
    "#### NRMSE"
   ]
  },
  {
   "cell_type": "code",
   "execution_count": 13,
   "metadata": {},
   "outputs": [
    {
     "data": {
      "text/plain": [
       "19.91518504327409"
      ]
     },
     "execution_count": 13,
     "metadata": {},
     "output_type": "execute_result"
    }
   ],
   "source": [
    "compute_nrmse_weighted(gbsg[ifamd.k1][C0_missing], ifamd.df[ifamd.k1][C0_missing])"
   ]
  }
 ],
 "metadata": {
  "kernelspec": {
   "display_name": "Python 3",
   "language": "python",
   "name": "python3"
  },
  "language_info": {
   "codemirror_mode": {
    "name": "ipython",
    "version": 3
   },
   "file_extension": ".py",
   "mimetype": "text/x-python",
   "name": "python",
   "nbconvert_exporter": "python",
   "pygments_lexer": "ipython3",
   "version": "3.9.13"
  }
 },
 "nbformat": 4,
 "nbformat_minor": 2
}
